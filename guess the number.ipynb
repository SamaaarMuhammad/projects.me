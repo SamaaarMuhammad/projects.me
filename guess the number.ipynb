{
 "cells": [
  {
   "cell_type": "code",
   "execution_count": null,
   "id": "09cae580",
   "metadata": {},
   "outputs": [
    {
     "name": "stdout",
     "output_type": "stream",
     "text": [
      "guess a number between 1 and 10090\n",
      "Your guess is too high. Guess again\n"
     ]
    }
   ],
   "source": [
    "import random\n",
    "import math\n",
    "num = random.randint(1,100)\n",
    "guess = None\n",
    "\n",
    "while guess != num:\n",
    "    guess = input(\"guess a number between 1 and 100\" )\n",
    "    guess = int(guess)\n",
    "\n",
    "    if guess < num:\n",
    "        print(\"Your guess is too low. Guess again\" )\n",
    "    if guess > num:\n",
    "        print(\"Your guess is too high. Guess again\" )\n",
    "    if guess == num:\n",
    "        print(\"congratulations! you won!\" )\n",
    "        break"
   ]
  },
  {
   "cell_type": "code",
   "execution_count": null,
   "id": "ec40b00c",
   "metadata": {},
   "outputs": [],
   "source": []
  }
 ],
 "metadata": {
  "kernelspec": {
   "display_name": "Python 3 (ipykernel)",
   "language": "python",
   "name": "python3"
  },
  "language_info": {
   "codemirror_mode": {
    "name": "ipython",
    "version": 3
   },
   "file_extension": ".py",
   "mimetype": "text/x-python",
   "name": "python",
   "nbconvert_exporter": "python",
   "pygments_lexer": "ipython3",
   "version": "3.10.9"
  }
 },
 "nbformat": 4,
 "nbformat_minor": 5
}
