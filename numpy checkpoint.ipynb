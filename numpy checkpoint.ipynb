{
 "cells": [
  {
   "cell_type": "code",
   "execution_count": 1,
   "id": "da75c882",
   "metadata": {
    "scrolled": false
   },
   "outputs": [
    {
     "ename": "SyntaxError",
     "evalue": "invalid syntax (2585128130.py, line 32)",
     "output_type": "error",
     "traceback": [
      "\u001b[1;36m  Cell \u001b[1;32mIn[1], line 32\u001b[1;36m\u001b[0m\n\u001b[1;33m    or using NumPy:\u001b[0m\n\u001b[1;37m    ^\u001b[0m\n\u001b[1;31mSyntaxError\u001b[0m\u001b[1;31m:\u001b[0m invalid syntax\n"
     ]
    }
   ],
   "source": [
    "import pandas\n",
    "\n",
    "list_marks = {}\n",
    "\n",
    "subjects = int(input(\"Number of subjects: \"))\n",
    "\n",
    "while(True):\n",
    "    name = input(\"Name of student (leave empty if finished): \")\n",
    "    if not name:\n",
    "        break\n",
    "\n",
    "    scores = []\n",
    "    for i in range(1, subjects + 1):\n",
    "        scores.append(int(input(\"Subject %d: \" % i)))\n",
    "\n",
    "    list_marks[name] = scores\n",
    "\n",
    "scores = pandas.DataFrame(list_marks)\n",
    "print(scores)\n",
    "#     student1  student2  student3\n",
    "# 0       100        90        80\n",
    "# 1       100        90        60\n",
    "print(scores.mean(axis=0))\n",
    "# student1    100.0\n",
    "# student2     90.0\n",
    "# student3     70.0\n",
    "# dtype: float64\n",
    "print(scores.mean(axis=1))\n",
    "# 0    90.000000\n",
    "# 1    83.333333\n",
    "# dtype: float64\n",
    "or using NumPy:\n",
    "\n",
    "import numpy\n",
    "\n",
    "scoresarray = numpy.array(list(list_marks.values()))\n",
    "print(numpy.mean(scoresarray, axis=0))\n",
    "# [ 90.          83.33333333]\n",
    "print(numpy.mean(scoresarray, axis=1))\n",
    "# [ 100.   90.   70.]"
   ]
  },
  {
   "cell_type": "code",
   "execution_count": null,
   "id": "e9bebacc",
   "metadata": {},
   "outputs": [],
   "source": []
  }
 ],
 "metadata": {
  "kernelspec": {
   "display_name": "Python 3 (ipykernel)",
   "language": "python",
   "name": "python3"
  },
  "language_info": {
   "codemirror_mode": {
    "name": "ipython",
    "version": 3
   },
   "file_extension": ".py",
   "mimetype": "text/x-python",
   "name": "python",
   "nbconvert_exporter": "python",
   "pygments_lexer": "ipython3",
   "version": "3.10.9"
  }
 },
 "nbformat": 4,
 "nbformat_minor": 5
}
