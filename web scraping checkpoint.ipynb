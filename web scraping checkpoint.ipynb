{
 "cells": [
  {
   "cell_type": "code",
   "execution_count": 3,
   "id": "1cd738fb",
   "metadata": {},
   "outputs": [
    {
     "name": "stdout",
     "output_type": "stream",
     "text": [
      "John D. Hunter (August 1, 1968 – August 28, 2012) was an American neurobiologist and the original author of Matplotlib. Biography He was brought up in Dyersburg, Tennessee. He graduated from The McCallie School. He studied initially at Princeton University, later he obtained a Ph.D. in neurobiology from the University of Chicago in 2004. In 2005, he joined TradeLink Securities as a Quantitative Analyst. Later, he was one of the founding directors of NumFOCUS Foundation. Matplotlib Matplotlib was originally  conceived to visualize electrocorticography (ECoG) data of epilepsy patients during post-doctoral research in neurobiology. The open-source tool  emerged as the most widely used plotting library for the Python programming language, and a core component of the scientific Python stack, along with NumPy, SciPy and IPython. Matplotlib was used for data visualization during landing of the Phoenix spacecraft in 2008 as well as for the creation of the first image of a black hole. Personal life He was diagnosed with malignant colon cancer and died from cancer treatment complications on August 28, 2012. His memorial service was held at the University of Chicago's Rockefeller Chapel (which was also the location of his Ph.D. graduation) on October 1, 2012. He is survived by his wife Miriam, and three daughters: Clara, Ava, and Rahel. A memorial fund to honor his work has been established to help with the education of his three daughters. Awards Python Software Foundation awarded its first Distinguished Service Award — the Foundation's highest honor  — to Hunter in order to recognize his long-term excellence in the Python community. Legacy From 2013 onwards, the SciPy Conference has hosted the annual John Hunter Excellence in Plotting Contest in his honor to continue the advancement of scientific plotting, where the first prize winner is awarded with $1000.\n"
     ]
    }
   ],
   "source": [
    "# Import packages\n",
    "from urllib.request import urlopen\n",
    "from bs4 import BeautifulSoup\n",
    "import re\n",
    "\n",
    "# Specify url of the web page\n",
    "source = urlopen('https://en.wikipedia.org/wiki/John_D._Hunter').read()\n",
    "\n",
    "# Make a soup \n",
    "soup = BeautifulSoup(source,'lxml')\n",
    "soup\n",
    "\n",
    "# Extract the plain text content from paragraphs\n",
    "paras = []\n",
    "for paragraph in soup.find_all('p'):\n",
    "    paras.append(str(paragraph.text))\n",
    "\n",
    "# Extract text from paragraph headers\n",
    "heads = []\n",
    "for head in soup.find_all('span', attrs={'mw-headline'}):\n",
    "    heads.append(str(head.text))\n",
    "\n",
    "# Interleave paragraphs & headers\n",
    "text = [val for pair in zip(paras, heads) for val in pair]\n",
    "text = ' '.join(text)\n",
    "\n",
    "# Drop footnote superscripts in brackets\n",
    "text = re.sub(r\"\\[.*?\\]+\", '', text)\n",
    "\n",
    "# Replace '\\n' (a new line) with '' and end the string at $1000.\n",
    "text = text.replace('\\n', '')[:-11]\n",
    "print(text)"
   ]
  },
  {
   "cell_type": "code",
   "execution_count": null,
   "id": "5d781ad7",
   "metadata": {},
   "outputs": [],
   "source": []
  }
 ],
 "metadata": {
  "kernelspec": {
   "display_name": "Python 3 (ipykernel)",
   "language": "python",
   "name": "python3"
  },
  "language_info": {
   "codemirror_mode": {
    "name": "ipython",
    "version": 3
   },
   "file_extension": ".py",
   "mimetype": "text/x-python",
   "name": "python",
   "nbconvert_exporter": "python",
   "pygments_lexer": "ipython3",
   "version": "3.10.9"
  }
 },
 "nbformat": 4,
 "nbformat_minor": 5
}
